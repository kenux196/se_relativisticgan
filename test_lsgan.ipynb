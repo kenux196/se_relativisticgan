{
 "metadata": {
  "language_info": {
   "codemirror_mode": {
    "name": "ipython",
    "version": 3
   },
   "file_extension": ".py",
   "mimetype": "text/x-python",
   "name": "python",
   "nbconvert_exporter": "python",
   "pygments_lexer": "ipython3",
   "version": "3.6.12-final"
  },
  "orig_nbformat": 2,
  "kernelspec": {
   "name": "python_defaultSpec_1600056111548",
   "display_name": "Python 3.6.12 64-bit ('dl-env': conda)"
  }
 },
 "nbformat": 4,
 "nbformat_minor": 2,
 "cells": [
  {
   "cell_type": "code",
   "execution_count": 1,
   "metadata": {
    "tags": []
   },
   "outputs": [
    {
     "output_type": "execute_result",
     "data": {
      "text/plain": "'2.1.0'"
     },
     "metadata": {},
     "execution_count": 1
    }
   ],
   "source": [
    "import tensorflow as tf\n",
    "tf.__version__"
   ]
  },
  {
   "cell_type": "code",
   "execution_count": 1,
   "metadata": {
    "tags": []
   },
   "outputs": [
    {
     "output_type": "stream",
     "name": "stderr",
     "text": "Using TensorFlow backend.\nERROR:root:Internal Python error in the inspect module.\nBelow is the traceback from this internal error.\n\nERROR:root:Internal Python error in the inspect module.\nBelow is the traceback from this internal error.\n\nERROR:root:Internal Python error in the inspect module.\nBelow is the traceback from this internal error.\n\nTraceback (most recent call last):\n  File \"C:\\Users\\skyun\\miniconda3\\envs\\dl-env\\lib\\site-packages\\IPython\\core\\interactiveshell.py\", line 3343, in run_code\n    exec(code_obj, self.user_global_ns, self.user_ns)\n  File \"<ipython-input-1-fdba3484c83e>\", line 9, in <module>\n    keras_backend = tf.keras.backend\nNameError: name 'tf' is not defined\n\nDuring handling of the above exception, another exception occurred:\n\nTraceback (most recent call last):\n  File \"C:\\Users\\skyun\\miniconda3\\envs\\dl-env\\lib\\site-packages\\IPython\\core\\interactiveshell.py\", line 2044, in showtraceback\n    stb = value._render_traceback_()\nAttributeError: 'NameError' object has no attribute '_render_traceback_'\n\nDuring handling of the above exception, another exception occurred:\n\nTraceback (most recent call last):\n  File \"C:\\Users\\skyun\\miniconda3\\envs\\dl-env\\lib\\site-packages\\IPython\\core\\ultratb.py\", line 1169, in get_records\n    return _fixed_getinnerframes(etb, number_of_lines_of_context, tb_offset)\n  File \"C:\\Users\\skyun\\miniconda3\\envs\\dl-env\\lib\\site-packages\\IPython\\core\\ultratb.py\", line 316, in wrapped\n    return f(*args, **kwargs)\n  File \"C:\\Users\\skyun\\miniconda3\\envs\\dl-env\\lib\\site-packages\\IPython\\core\\ultratb.py\", line 350, in _fixed_getinnerframes\n    records = fix_frame_records_filenames(inspect.getinnerframes(etb, context))\n  File \"C:\\Users\\skyun\\miniconda3\\envs\\dl-env\\lib\\inspect.py\", line 1490, in getinnerframes\n    frameinfo = (tb.tb_frame,) + getframeinfo(tb, context)\n  File \"C:\\Users\\skyun\\miniconda3\\envs\\dl-env\\lib\\inspect.py\", line 1448, in getframeinfo\n    filename = getsourcefile(frame) or getfile(frame)\n  File \"C:\\Users\\skyun\\miniconda3\\envs\\dl-env\\lib\\inspect.py\", line 696, in getsourcefile\n    if getattr(getmodule(object, filename), '__loader__', None) is not None:\n  File \"C:\\Users\\skyun\\miniconda3\\envs\\dl-env\\lib\\inspect.py\", line 733, in getmodule\n    if ismodule(module) and hasattr(module, '__file__'):\n  File \"C:\\Users\\skyun\\miniconda3\\envs\\dl-env\\lib\\site-packages\\tensorflow\\__init__.py\", line 50, in __getattr__\n    module = self._load()\n  File \"C:\\Users\\skyun\\miniconda3\\envs\\dl-env\\lib\\site-packages\\tensorflow\\__init__.py\", line 44, in _load\n    module = _importlib.import_module(self.__name__)\n  File \"C:\\Users\\skyun\\miniconda3\\envs\\dl-env\\lib\\importlib\\__init__.py\", line 126, in import_module\n    return _bootstrap._gcd_import(name[level:], package, level)\n  File \"<frozen importlib._bootstrap>\", line 994, in _gcd_import\n  File \"<frozen importlib._bootstrap>\", line 971, in _find_and_load\n  File \"<frozen importlib._bootstrap>\", line 953, in _find_and_load_unlocked\nModuleNotFoundError: No module named 'tensorflow_core.estimator'\nTraceback (most recent call last):\n  File \"C:\\Users\\skyun\\miniconda3\\envs\\dl-env\\lib\\site-packages\\IPython\\core\\interactiveshell.py\", line 3343, in run_code\n    exec(code_obj, self.user_global_ns, self.user_ns)\n  File \"<ipython-input-1-fdba3484c83e>\", line 9, in <module>\n    keras_backend = tf.keras.backend\nNameError: name 'tf' is not defined\n\nDuring handling of the above exception, another exception occurred:\n\nTraceback (most recent call last):\n  File \"C:\\Users\\skyun\\miniconda3\\envs\\dl-env\\lib\\site-packages\\IPython\\core\\interactiveshell.py\", line 2044, in showtraceback\n    stb = value._render_traceback_()\nAttributeError: 'NameError' object has no attribute '_render_traceback_'\n\nDuring handling of the above exception, another exception occurred:\n\nTraceback (most recent call last):\n  File \"C:\\Users\\skyun\\miniconda3\\envs\\dl-env\\lib\\site-packages\\IPython\\core\\interactiveshell.py\", line 3263, in run_ast_nodes\n    if (await self.run_code(code, result,  async_=asy)):\n  File \"C:\\Users\\skyun\\miniconda3\\envs\\dl-env\\lib\\site-packages\\IPython\\core\\interactiveshell.py\", line 3360, in run_code\n    self.showtraceback(running_compiled_code=True)\n  File \"C:\\Users\\skyun\\miniconda3\\envs\\dl-env\\lib\\site-packages\\IPython\\core\\interactiveshell.py\", line 2047, in showtraceback\n    value, tb, tb_offset=tb_offset)\n  File \"C:\\Users\\skyun\\miniconda3\\envs\\dl-env\\lib\\site-packages\\IPython\\core\\ultratb.py\", line 1436, in structured_traceback\n    self, etype, value, tb, tb_offset, number_of_lines_of_context)\n  File \"C:\\Users\\skyun\\miniconda3\\envs\\dl-env\\lib\\site-packages\\IPython\\core\\ultratb.py\", line 1336, in structured_traceback\n    self, etype, value, tb, tb_offset, number_of_lines_of_context\n  File \"C:\\Users\\skyun\\miniconda3\\envs\\dl-env\\lib\\site-packages\\IPython\\core\\ultratb.py\", line 1193, in structured_traceback\n    tb_offset)\n  File \"C:\\Users\\skyun\\miniconda3\\envs\\dl-env\\lib\\site-packages\\IPython\\core\\ultratb.py\", line 1150, in format_exception_as_a_whole\n    last_unique, recursion_repeat = find_recursion(orig_etype, evalue, records)\n  File \"C:\\Users\\skyun\\miniconda3\\envs\\dl-env\\lib\\site-packages\\IPython\\core\\ultratb.py\", line 451, in find_recursion\n    return len(records), 0\nTypeError: object of type 'NoneType' has no len()\n\nDuring handling of the above exception, another exception occurred:\n\nTraceback (most recent call last):\n  File \"C:\\Users\\skyun\\miniconda3\\envs\\dl-env\\lib\\site-packages\\IPython\\core\\interactiveshell.py\", line 2044, in showtraceback\n    stb = value._render_traceback_()\nAttributeError: 'TypeError' object has no attribute '_render_traceback_'\n\nDuring handling of the above exception, another exception occurred:\n\nTraceback (most recent call last):\n  File \"C:\\Users\\skyun\\miniconda3\\envs\\dl-env\\lib\\site-packages\\IPython\\core\\ultratb.py\", line 1169, in get_records\n    return _fixed_getinnerframes(etb, number_of_lines_of_context, tb_offset)\n  File \"C:\\Users\\skyun\\miniconda3\\envs\\dl-env\\lib\\site-packages\\IPython\\core\\ultratb.py\", line 316, in wrapped\n    return f(*args, **kwargs)\n  File \"C:\\Users\\skyun\\miniconda3\\envs\\dl-env\\lib\\site-packages\\IPython\\core\\ultratb.py\", line 350, in _fixed_getinnerframes\n    records = fix_frame_records_filenames(inspect.getinnerframes(etb, context))\n  File \"C:\\Users\\skyun\\miniconda3\\envs\\dl-env\\lib\\inspect.py\", line 1490, in getinnerframes\n    frameinfo = (tb.tb_frame,) + getframeinfo(tb, context)\n  File \"C:\\Users\\skyun\\miniconda3\\envs\\dl-env\\lib\\inspect.py\", line 1448, in getframeinfo\n    filename = getsourcefile(frame) or getfile(frame)\n  File \"C:\\Users\\skyun\\miniconda3\\envs\\dl-env\\lib\\inspect.py\", line 696, in getsourcefile\n    if getattr(getmodule(object, filename), '__loader__', None) is not None:\n  File \"C:\\Users\\skyun\\miniconda3\\envs\\dl-env\\lib\\inspect.py\", line 733, in getmodule\n    if ismodule(module) and hasattr(module, '__file__'):\n  File \"C:\\Users\\skyun\\miniconda3\\envs\\dl-env\\lib\\site-packages\\tensorflow\\__init__.py\", line 50, in __getattr__\n    module = self._load()\n  File \"C:\\Users\\skyun\\miniconda3\\envs\\dl-env\\lib\\site-packages\\tensorflow\\__init__.py\", line 44, in _load\n    module = _importlib.import_module(self.__name__)\n  File \"C:\\Users\\skyun\\miniconda3\\envs\\dl-env\\lib\\importlib\\__init__.py\", line 126, in import_module\n    return _bootstrap._gcd_import(name[level:], package, level)\n  File \"<frozen importlib._bootstrap>\", line 994, in _gcd_import\n  File \"<frozen importlib._bootstrap>\", line 971, in _find_and_load\n  File \"<frozen importlib._bootstrap>\", line 953, in _find_and_load_unlocked\nModuleNotFoundError: No module named 'tensorflow_core.estimator'\nTraceback (most recent call last):\n  File \"C:\\Users\\skyun\\miniconda3\\envs\\dl-env\\lib\\site-packages\\IPython\\core\\interactiveshell.py\", line 3343, in run_code\n    exec(code_obj, self.user_global_ns, self.user_ns)\n  File \"<ipython-input-1-fdba3484c83e>\", line 9, in <module>\n    keras_backend = tf.keras.backend\nNameError: name 'tf' is not defined\n\nDuring handling of the above exception, another exception occurred:\n\nTraceback (most recent call last):\n  File \"C:\\Users\\skyun\\miniconda3\\envs\\dl-env\\lib\\site-packages\\IPython\\core\\interactiveshell.py\", line 2044, in showtraceback\n    stb = value._render_traceback_()\nAttributeError: 'NameError' object has no attribute '_render_traceback_'\n\nDuring handling of the above exception, another exception occurred:\n\nTraceback (most recent call last):\n  File \"C:\\Users\\skyun\\miniconda3\\envs\\dl-env\\lib\\site-packages\\IPython\\core\\interactiveshell.py\", line 3263, in run_ast_nodes\n    if (await self.run_code(code, result,  async_=asy)):\n  File \"C:\\Users\\skyun\\miniconda3\\envs\\dl-env\\lib\\site-packages\\IPython\\core\\interactiveshell.py\", line 3360, in run_code\n    self.showtraceback(running_compiled_code=True)\n  File \"C:\\Users\\skyun\\miniconda3\\envs\\dl-env\\lib\\site-packages\\IPython\\core\\interactiveshell.py\", line 2047, in showtraceback\n    value, tb, tb_offset=tb_offset)\n  File \"C:\\Users\\skyun\\miniconda3\\envs\\dl-env\\lib\\site-packages\\IPython\\core\\ultratb.py\", line 1436, in structured_traceback\n    self, etype, value, tb, tb_offset, number_of_lines_of_context)\n  File \"C:\\Users\\skyun\\miniconda3\\envs\\dl-env\\lib\\site-packages\\IPython\\core\\ultratb.py\", line 1336, in structured_traceback\n    self, etype, value, tb, tb_offset, number_of_lines_of_context\n  File \"C:\\Users\\skyun\\miniconda3\\envs\\dl-env\\lib\\site-packages\\IPython\\core\\ultratb.py\", line 1193, in structured_traceback\n    tb_offset)\n  File \"C:\\Users\\skyun\\miniconda3\\envs\\dl-env\\lib\\site-packages\\IPython\\core\\ultratb.py\", line 1150, in format_exception_as_a_whole\n    last_unique, recursion_repeat = find_recursion(orig_etype, evalue, records)\n  File \"C:\\Users\\skyun\\miniconda3\\envs\\dl-env\\lib\\site-packages\\IPython\\core\\ultratb.py\", line 451, in find_recursion\n    return len(records), 0\nTypeError: object of type 'NoneType' has no len()\n\nDuring handling of the above exception, another exception occurred:\n\nTraceback (most recent call last):\n  File \"C:\\Users\\skyun\\miniconda3\\envs\\dl-env\\lib\\site-packages\\IPython\\core\\interactiveshell.py\", line 2044, in showtraceback\n    stb = value._render_traceback_()\nAttributeError: 'TypeError' object has no attribute '_render_traceback_'\n\nDuring handling of the above exception, another exception occurred:\n\nTraceback (most recent call last):\n  File \"C:\\Users\\skyun\\miniconda3\\envs\\dl-env\\lib\\site-packages\\IPython\\core\\interactiveshell.py\", line 2895, in _run_cell\n    return runner(coro)\n  File \"C:\\Users\\skyun\\miniconda3\\envs\\dl-env\\lib\\site-packages\\IPython\\core\\async_helpers.py\", line 68, in _pseudo_sync_runner\n    coro.send(None)\n  File \"C:\\Users\\skyun\\miniconda3\\envs\\dl-env\\lib\\site-packages\\IPython\\core\\interactiveshell.py\", line 3072, in run_cell_async\n    interactivity=interactivity, compiler=compiler, result=result)\n  File \"C:\\Users\\skyun\\miniconda3\\envs\\dl-env\\lib\\site-packages\\IPython\\core\\interactiveshell.py\", line 3282, in run_ast_nodes\n    self.showtraceback()\n  File \"C:\\Users\\skyun\\miniconda3\\envs\\dl-env\\lib\\site-packages\\IPython\\core\\interactiveshell.py\", line 2047, in showtraceback\n    value, tb, tb_offset=tb_offset)\n  File \"C:\\Users\\skyun\\miniconda3\\envs\\dl-env\\lib\\site-packages\\IPython\\core\\ultratb.py\", line 1436, in structured_traceback\n    self, etype, value, tb, tb_offset, number_of_lines_of_context)\n  File \"C:\\Users\\skyun\\miniconda3\\envs\\dl-env\\lib\\site-packages\\IPython\\core\\ultratb.py\", line 1336, in structured_traceback\n    self, etype, value, tb, tb_offset, number_of_lines_of_context\n  File \"C:\\Users\\skyun\\miniconda3\\envs\\dl-env\\lib\\site-packages\\IPython\\core\\ultratb.py\", line 1211, in structured_traceback\n    chained_exceptions_tb_offset)\n  File \"C:\\Users\\skyun\\miniconda3\\envs\\dl-env\\lib\\site-packages\\IPython\\core\\ultratb.py\", line 1150, in format_exception_as_a_whole\n    last_unique, recursion_repeat = find_recursion(orig_etype, evalue, records)\n  File \"C:\\Users\\skyun\\miniconda3\\envs\\dl-env\\lib\\site-packages\\IPython\\core\\ultratb.py\", line 451, in find_recursion\n    return len(records), 0\nTypeError: object of type 'NoneType' has no len()\n\nDuring handling of the above exception, another exception occurred:\n\nTraceback (most recent call last):\n  File \"C:\\Users\\skyun\\miniconda3\\envs\\dl-env\\lib\\site-packages\\IPython\\core\\interactiveshell.py\", line 2044, in showtraceback\n    stb = value._render_traceback_()\nAttributeError: 'TypeError' object has no attribute '_render_traceback_'\n\nDuring handling of the above exception, another exception occurred:\n\nTraceback (most recent call last):\n  File \"C:\\Users\\skyun\\miniconda3\\envs\\dl-env\\lib\\site-packages\\IPython\\core\\ultratb.py\", line 1169, in get_records\n    return _fixed_getinnerframes(etb, number_of_lines_of_context, tb_offset)\n  File \"C:\\Users\\skyun\\miniconda3\\envs\\dl-env\\lib\\site-packages\\IPython\\core\\ultratb.py\", line 316, in wrapped\n    return f(*args, **kwargs)\n  File \"C:\\Users\\skyun\\miniconda3\\envs\\dl-env\\lib\\site-packages\\IPython\\core\\ultratb.py\", line 350, in _fixed_getinnerframes\n    records = fix_frame_records_filenames(inspect.getinnerframes(etb, context))\n  File \"C:\\Users\\skyun\\miniconda3\\envs\\dl-env\\lib\\inspect.py\", line 1490, in getinnerframes\n    frameinfo = (tb.tb_frame,) + getframeinfo(tb, context)\n  File \"C:\\Users\\skyun\\miniconda3\\envs\\dl-env\\lib\\inspect.py\", line 1448, in getframeinfo\n    filename = getsourcefile(frame) or getfile(frame)\n  File \"C:\\Users\\skyun\\miniconda3\\envs\\dl-env\\lib\\inspect.py\", line 696, in getsourcefile\n    if getattr(getmodule(object, filename), '__loader__', None) is not None:\n  File \"C:\\Users\\skyun\\miniconda3\\envs\\dl-env\\lib\\inspect.py\", line 733, in getmodule\n    if ismodule(module) and hasattr(module, '__file__'):\n  File \"C:\\Users\\skyun\\miniconda3\\envs\\dl-env\\lib\\site-packages\\tensorflow\\__init__.py\", line 50, in __getattr__\n    module = self._load()\n  File \"C:\\Users\\skyun\\miniconda3\\envs\\dl-env\\lib\\site-packages\\tensorflow\\__init__.py\", line 44, in _load\n    module = _importlib.import_module(self.__name__)\n  File \"C:\\Users\\skyun\\miniconda3\\envs\\dl-env\\lib\\importlib\\__init__.py\", line 126, in import_module\n    return _bootstrap._gcd_import(name[level:], package, level)\n  File \"<frozen importlib._bootstrap>\", line 994, in _gcd_import\n  File \"<frozen importlib._bootstrap>\", line 971, in _find_and_load\n  File \"<frozen importlib._bootstrap>\", line 953, in _find_and_load_unlocked\nModuleNotFoundError: No module named 'tensorflow_core.estimator'\n"
    }
   ],
   "source": [
    "#from tensorflow.contrib.layers import xavier_initializer, flatten, fully_connected\n",
    "import numpy as np\n",
    "import keras\n",
    "from keras.layers import Input, Dense, Conv1D, Conv2D, Conv2DTranspose, BatchNormalization\n",
    "from keras.layers import LeakyReLU, PReLU, Reshape, Concatenate, Flatten\n",
    "from keras.models import Sequential, Model\n",
    "from keras.optimizers import Adam\n",
    "from keras.callbacks import TensorBoard\n",
    "keras_backend = tf.keras.backend\n",
    "keras_initializers = tf.keras.initializers\n",
    "from data_ops import *\n",
    "from file_ops import *\n",
    "from models import *\n",
    "\n",
    "import time\n",
    "from tqdm import *\n",
    "import h5py\n",
    "import os,sys\n",
    "import scipy.io.wavfile as wavfile"
   ]
  },
  {
   "cell_type": "code",
   "execution_count": 3,
   "metadata": {
    "tags": []
   },
   "outputs": [
    {
     "output_type": "stream",
     "name": "stderr",
     "text": "ERROR:root:Internal Python error in the inspect module.\nBelow is the traceback from this internal error.\n\nERROR:root:Internal Python error in the inspect module.\nBelow is the traceback from this internal error.\n\nERROR:root:Internal Python error in the inspect module.\nBelow is the traceback from this internal error.\n\nTraceback (most recent call last):\n  File \"C:\\Users\\skyun\\miniconda3\\envs\\dl-env\\lib\\site-packages\\IPython\\core\\interactiveshell.py\", line 3343, in run_code\n    exec(code_obj, self.user_global_ns, self.user_ns)\n  File \"<ipython-input-3-d04eb30867f7>\", line 52, in <module>\n    modeldir = get_modeldirname(opts)\nNameError: name 'get_modeldirname' is not defined\n\nDuring handling of the above exception, another exception occurred:\n\nTraceback (most recent call last):\n  File \"C:\\Users\\skyun\\miniconda3\\envs\\dl-env\\lib\\site-packages\\IPython\\core\\interactiveshell.py\", line 2044, in showtraceback\n    stb = value._render_traceback_()\nAttributeError: 'NameError' object has no attribute '_render_traceback_'\n\nDuring handling of the above exception, another exception occurred:\n\nTraceback (most recent call last):\n  File \"C:\\Users\\skyun\\miniconda3\\envs\\dl-env\\lib\\site-packages\\IPython\\core\\ultratb.py\", line 1169, in get_records\n    return _fixed_getinnerframes(etb, number_of_lines_of_context, tb_offset)\n  File \"C:\\Users\\skyun\\miniconda3\\envs\\dl-env\\lib\\site-packages\\IPython\\core\\ultratb.py\", line 316, in wrapped\n    return f(*args, **kwargs)\n  File \"C:\\Users\\skyun\\miniconda3\\envs\\dl-env\\lib\\site-packages\\IPython\\core\\ultratb.py\", line 350, in _fixed_getinnerframes\n    records = fix_frame_records_filenames(inspect.getinnerframes(etb, context))\n  File \"C:\\Users\\skyun\\miniconda3\\envs\\dl-env\\lib\\inspect.py\", line 1490, in getinnerframes\n    frameinfo = (tb.tb_frame,) + getframeinfo(tb, context)\n  File \"C:\\Users\\skyun\\miniconda3\\envs\\dl-env\\lib\\inspect.py\", line 1448, in getframeinfo\n    filename = getsourcefile(frame) or getfile(frame)\n  File \"C:\\Users\\skyun\\miniconda3\\envs\\dl-env\\lib\\inspect.py\", line 696, in getsourcefile\n    if getattr(getmodule(object, filename), '__loader__', None) is not None:\n  File \"C:\\Users\\skyun\\miniconda3\\envs\\dl-env\\lib\\inspect.py\", line 733, in getmodule\n    if ismodule(module) and hasattr(module, '__file__'):\n  File \"C:\\Users\\skyun\\miniconda3\\envs\\dl-env\\lib\\site-packages\\tensorflow\\__init__.py\", line 50, in __getattr__\n    module = self._load()\n  File \"C:\\Users\\skyun\\miniconda3\\envs\\dl-env\\lib\\site-packages\\tensorflow\\__init__.py\", line 44, in _load\n    module = _importlib.import_module(self.__name__)\n  File \"C:\\Users\\skyun\\miniconda3\\envs\\dl-env\\lib\\importlib\\__init__.py\", line 126, in import_module\n    return _bootstrap._gcd_import(name[level:], package, level)\n  File \"<frozen importlib._bootstrap>\", line 994, in _gcd_import\n  File \"<frozen importlib._bootstrap>\", line 971, in _find_and_load\n  File \"<frozen importlib._bootstrap>\", line 953, in _find_and_load_unlocked\nModuleNotFoundError: No module named 'tensorflow_core.estimator'\nTraceback (most recent call last):\n  File \"C:\\Users\\skyun\\miniconda3\\envs\\dl-env\\lib\\site-packages\\IPython\\core\\interactiveshell.py\", line 3343, in run_code\n    exec(code_obj, self.user_global_ns, self.user_ns)\n  File \"<ipython-input-3-d04eb30867f7>\", line 52, in <module>\n    modeldir = get_modeldirname(opts)\nNameError: name 'get_modeldirname' is not defined\n\nDuring handling of the above exception, another exception occurred:\n\nTraceback (most recent call last):\n  File \"C:\\Users\\skyun\\miniconda3\\envs\\dl-env\\lib\\site-packages\\IPython\\core\\interactiveshell.py\", line 2044, in showtraceback\n    stb = value._render_traceback_()\nAttributeError: 'NameError' object has no attribute '_render_traceback_'\n\nDuring handling of the above exception, another exception occurred:\n\nTraceback (most recent call last):\n  File \"C:\\Users\\skyun\\miniconda3\\envs\\dl-env\\lib\\site-packages\\IPython\\core\\interactiveshell.py\", line 3263, in run_ast_nodes\n    if (await self.run_code(code, result,  async_=asy)):\n  File \"C:\\Users\\skyun\\miniconda3\\envs\\dl-env\\lib\\site-packages\\IPython\\core\\interactiveshell.py\", line 3360, in run_code\n    self.showtraceback(running_compiled_code=True)\n  File \"C:\\Users\\skyun\\miniconda3\\envs\\dl-env\\lib\\site-packages\\IPython\\core\\interactiveshell.py\", line 2047, in showtraceback\n    value, tb, tb_offset=tb_offset)\n  File \"C:\\Users\\skyun\\miniconda3\\envs\\dl-env\\lib\\site-packages\\IPython\\core\\ultratb.py\", line 1436, in structured_traceback\n    self, etype, value, tb, tb_offset, number_of_lines_of_context)\n  File \"C:\\Users\\skyun\\miniconda3\\envs\\dl-env\\lib\\site-packages\\IPython\\core\\ultratb.py\", line 1336, in structured_traceback\n    self, etype, value, tb, tb_offset, number_of_lines_of_context\n  File \"C:\\Users\\skyun\\miniconda3\\envs\\dl-env\\lib\\site-packages\\IPython\\core\\ultratb.py\", line 1193, in structured_traceback\n    tb_offset)\n  File \"C:\\Users\\skyun\\miniconda3\\envs\\dl-env\\lib\\site-packages\\IPython\\core\\ultratb.py\", line 1150, in format_exception_as_a_whole\n    last_unique, recursion_repeat = find_recursion(orig_etype, evalue, records)\n  File \"C:\\Users\\skyun\\miniconda3\\envs\\dl-env\\lib\\site-packages\\IPython\\core\\ultratb.py\", line 451, in find_recursion\n    return len(records), 0\nTypeError: object of type 'NoneType' has no len()\n\nDuring handling of the above exception, another exception occurred:\n\nTraceback (most recent call last):\n  File \"C:\\Users\\skyun\\miniconda3\\envs\\dl-env\\lib\\site-packages\\IPython\\core\\interactiveshell.py\", line 2044, in showtraceback\n    stb = value._render_traceback_()\nAttributeError: 'TypeError' object has no attribute '_render_traceback_'\n\nDuring handling of the above exception, another exception occurred:\n\nTraceback (most recent call last):\n  File \"C:\\Users\\skyun\\miniconda3\\envs\\dl-env\\lib\\site-packages\\IPython\\core\\ultratb.py\", line 1169, in get_records\n    return _fixed_getinnerframes(etb, number_of_lines_of_context, tb_offset)\n  File \"C:\\Users\\skyun\\miniconda3\\envs\\dl-env\\lib\\site-packages\\IPython\\core\\ultratb.py\", line 316, in wrapped\n    return f(*args, **kwargs)\n  File \"C:\\Users\\skyun\\miniconda3\\envs\\dl-env\\lib\\site-packages\\IPython\\core\\ultratb.py\", line 350, in _fixed_getinnerframes\n    records = fix_frame_records_filenames(inspect.getinnerframes(etb, context))\n  File \"C:\\Users\\skyun\\miniconda3\\envs\\dl-env\\lib\\inspect.py\", line 1490, in getinnerframes\n    frameinfo = (tb.tb_frame,) + getframeinfo(tb, context)\n  File \"C:\\Users\\skyun\\miniconda3\\envs\\dl-env\\lib\\inspect.py\", line 1448, in getframeinfo\n    filename = getsourcefile(frame) or getfile(frame)\n  File \"C:\\Users\\skyun\\miniconda3\\envs\\dl-env\\lib\\inspect.py\", line 696, in getsourcefile\n    if getattr(getmodule(object, filename), '__loader__', None) is not None:\n  File \"C:\\Users\\skyun\\miniconda3\\envs\\dl-env\\lib\\inspect.py\", line 733, in getmodule\n    if ismodule(module) and hasattr(module, '__file__'):\n  File \"C:\\Users\\skyun\\miniconda3\\envs\\dl-env\\lib\\site-packages\\tensorflow\\__init__.py\", line 50, in __getattr__\n    module = self._load()\n  File \"C:\\Users\\skyun\\miniconda3\\envs\\dl-env\\lib\\site-packages\\tensorflow\\__init__.py\", line 44, in _load\n    module = _importlib.import_module(self.__name__)\n  File \"C:\\Users\\skyun\\miniconda3\\envs\\dl-env\\lib\\importlib\\__init__.py\", line 126, in import_module\n    return _bootstrap._gcd_import(name[level:], package, level)\n  File \"<frozen importlib._bootstrap>\", line 994, in _gcd_import\n  File \"<frozen importlib._bootstrap>\", line 971, in _find_and_load\n  File \"<frozen importlib._bootstrap>\", line 953, in _find_and_load_unlocked\nModuleNotFoundError: No module named 'tensorflow_core.estimator'\nTraceback (most recent call last):\n  File \"C:\\Users\\skyun\\miniconda3\\envs\\dl-env\\lib\\site-packages\\IPython\\core\\interactiveshell.py\", line 3343, in run_code\n    exec(code_obj, self.user_global_ns, self.user_ns)\n  File \"<ipython-input-3-d04eb30867f7>\", line 52, in <module>\n    modeldir = get_modeldirname(opts)\nNameError: name 'get_modeldirname' is not defined\n\nDuring handling of the above exception, another exception occurred:\n\nTraceback (most recent call last):\n  File \"C:\\Users\\skyun\\miniconda3\\envs\\dl-env\\lib\\site-packages\\IPython\\core\\interactiveshell.py\", line 2044, in showtraceback\n    stb = value._render_traceback_()\nAttributeError: 'NameError' object has no attribute '_render_traceback_'\n\nDuring handling of the above exception, another exception occurred:\n\nTraceback (most recent call last):\n  File \"C:\\Users\\skyun\\miniconda3\\envs\\dl-env\\lib\\site-packages\\IPython\\core\\interactiveshell.py\", line 3263, in run_ast_nodes\n    if (await self.run_code(code, result,  async_=asy)):\n  File \"C:\\Users\\skyun\\miniconda3\\envs\\dl-env\\lib\\site-packages\\IPython\\core\\interactiveshell.py\", line 3360, in run_code\n    self.showtraceback(running_compiled_code=True)\n  File \"C:\\Users\\skyun\\miniconda3\\envs\\dl-env\\lib\\site-packages\\IPython\\core\\interactiveshell.py\", line 2047, in showtraceback\n    value, tb, tb_offset=tb_offset)\n  File \"C:\\Users\\skyun\\miniconda3\\envs\\dl-env\\lib\\site-packages\\IPython\\core\\ultratb.py\", line 1436, in structured_traceback\n    self, etype, value, tb, tb_offset, number_of_lines_of_context)\n  File \"C:\\Users\\skyun\\miniconda3\\envs\\dl-env\\lib\\site-packages\\IPython\\core\\ultratb.py\", line 1336, in structured_traceback\n    self, etype, value, tb, tb_offset, number_of_lines_of_context\n  File \"C:\\Users\\skyun\\miniconda3\\envs\\dl-env\\lib\\site-packages\\IPython\\core\\ultratb.py\", line 1193, in structured_traceback\n    tb_offset)\n  File \"C:\\Users\\skyun\\miniconda3\\envs\\dl-env\\lib\\site-packages\\IPython\\core\\ultratb.py\", line 1150, in format_exception_as_a_whole\n    last_unique, recursion_repeat = find_recursion(orig_etype, evalue, records)\n  File \"C:\\Users\\skyun\\miniconda3\\envs\\dl-env\\lib\\site-packages\\IPython\\core\\ultratb.py\", line 451, in find_recursion\n    return len(records), 0\nTypeError: object of type 'NoneType' has no len()\n\nDuring handling of the above exception, another exception occurred:\n\nTraceback (most recent call last):\n  File \"C:\\Users\\skyun\\miniconda3\\envs\\dl-env\\lib\\site-packages\\IPython\\core\\interactiveshell.py\", line 2044, in showtraceback\n    stb = value._render_traceback_()\nAttributeError: 'TypeError' object has no attribute '_render_traceback_'\n\nDuring handling of the above exception, another exception occurred:\n\nTraceback (most recent call last):\n  File \"C:\\Users\\skyun\\miniconda3\\envs\\dl-env\\lib\\site-packages\\IPython\\core\\interactiveshell.py\", line 2895, in _run_cell\n    return runner(coro)\n  File \"C:\\Users\\skyun\\miniconda3\\envs\\dl-env\\lib\\site-packages\\IPython\\core\\async_helpers.py\", line 68, in _pseudo_sync_runner\n    coro.send(None)\n  File \"C:\\Users\\skyun\\miniconda3\\envs\\dl-env\\lib\\site-packages\\IPython\\core\\interactiveshell.py\", line 3072, in run_cell_async\n    interactivity=interactivity, compiler=compiler, result=result)\n  File \"C:\\Users\\skyun\\miniconda3\\envs\\dl-env\\lib\\site-packages\\IPython\\core\\interactiveshell.py\", line 3282, in run_ast_nodes\n    self.showtraceback()\n  File \"C:\\Users\\skyun\\miniconda3\\envs\\dl-env\\lib\\site-packages\\IPython\\core\\interactiveshell.py\", line 2047, in showtraceback\n    value, tb, tb_offset=tb_offset)\n  File \"C:\\Users\\skyun\\miniconda3\\envs\\dl-env\\lib\\site-packages\\IPython\\core\\ultratb.py\", line 1436, in structured_traceback\n    self, etype, value, tb, tb_offset, number_of_lines_of_context)\n  File \"C:\\Users\\skyun\\miniconda3\\envs\\dl-env\\lib\\site-packages\\IPython\\core\\ultratb.py\", line 1336, in structured_traceback\n    self, etype, value, tb, tb_offset, number_of_lines_of_context\n  File \"C:\\Users\\skyun\\miniconda3\\envs\\dl-env\\lib\\site-packages\\IPython\\core\\ultratb.py\", line 1211, in structured_traceback\n    chained_exceptions_tb_offset)\n  File \"C:\\Users\\skyun\\miniconda3\\envs\\dl-env\\lib\\site-packages\\IPython\\core\\ultratb.py\", line 1150, in format_exception_as_a_whole\n    last_unique, recursion_repeat = find_recursion(orig_etype, evalue, records)\n  File \"C:\\Users\\skyun\\miniconda3\\envs\\dl-env\\lib\\site-packages\\IPython\\core\\ultratb.py\", line 451, in find_recursion\n    return len(records), 0\nTypeError: object of type 'NoneType' has no len()\n\nDuring handling of the above exception, another exception occurred:\n\nTraceback (most recent call last):\n  File \"C:\\Users\\skyun\\miniconda3\\envs\\dl-env\\lib\\site-packages\\IPython\\core\\interactiveshell.py\", line 2044, in showtraceback\n    stb = value._render_traceback_()\nAttributeError: 'TypeError' object has no attribute '_render_traceback_'\n\nDuring handling of the above exception, another exception occurred:\n\nTraceback (most recent call last):\n  File \"C:\\Users\\skyun\\miniconda3\\envs\\dl-env\\lib\\site-packages\\IPython\\core\\ultratb.py\", line 1169, in get_records\n    return _fixed_getinnerframes(etb, number_of_lines_of_context, tb_offset)\n  File \"C:\\Users\\skyun\\miniconda3\\envs\\dl-env\\lib\\site-packages\\IPython\\core\\ultratb.py\", line 316, in wrapped\n    return f(*args, **kwargs)\n  File \"C:\\Users\\skyun\\miniconda3\\envs\\dl-env\\lib\\site-packages\\IPython\\core\\ultratb.py\", line 350, in _fixed_getinnerframes\n    records = fix_frame_records_filenames(inspect.getinnerframes(etb, context))\n  File \"C:\\Users\\skyun\\miniconda3\\envs\\dl-env\\lib\\inspect.py\", line 1490, in getinnerframes\n    frameinfo = (tb.tb_frame,) + getframeinfo(tb, context)\n  File \"C:\\Users\\skyun\\miniconda3\\envs\\dl-env\\lib\\inspect.py\", line 1448, in getframeinfo\n    filename = getsourcefile(frame) or getfile(frame)\n  File \"C:\\Users\\skyun\\miniconda3\\envs\\dl-env\\lib\\inspect.py\", line 696, in getsourcefile\n    if getattr(getmodule(object, filename), '__loader__', None) is not None:\n  File \"C:\\Users\\skyun\\miniconda3\\envs\\dl-env\\lib\\inspect.py\", line 733, in getmodule\n    if ismodule(module) and hasattr(module, '__file__'):\n  File \"C:\\Users\\skyun\\miniconda3\\envs\\dl-env\\lib\\site-packages\\tensorflow\\__init__.py\", line 50, in __getattr__\n    module = self._load()\n  File \"C:\\Users\\skyun\\miniconda3\\envs\\dl-env\\lib\\site-packages\\tensorflow\\__init__.py\", line 44, in _load\n    module = _importlib.import_module(self.__name__)\n  File \"C:\\Users\\skyun\\miniconda3\\envs\\dl-env\\lib\\importlib\\__init__.py\", line 126, in import_module\n    return _bootstrap._gcd_import(name[level:], package, level)\n  File \"<frozen importlib._bootstrap>\", line 994, in _gcd_import\n  File \"<frozen importlib._bootstrap>\", line 971, in _find_and_load\n  File \"<frozen importlib._bootstrap>\", line 953, in _find_and_load_unlocked\nModuleNotFoundError: No module named 'tensorflow_core.estimator'\n"
    }
   ],
   "source": [
    "# Various GAN options\n",
    "opts = {}\n",
    "opts ['dirhead'] = \"LSGAN\"\n",
    "opts ['z_off'] = True # set to True to omit the latent noise input\n",
    "# normalization\n",
    "#################################\n",
    "# Only one of the follwoing should be set to True\n",
    "opts ['applyinstancenorm'] = True\n",
    "opts ['applybn'] = False\n",
    "##################################\n",
    "# Show model summary\n",
    "opts ['show_summary'] = True\n",
    "\n",
    "## Set the matfiles\n",
    "clean_train_matfile = \"./data/clean_train_segan1d.mat\"\n",
    "noisy_train_matfile = \"./data/noisy_train_segan1d.mat\"\n",
    "noisy_test_matfile = \"./data/noisy_test_segan1d.mat\"\n",
    "\n",
    "####################################################\n",
    "# Other fixed options\n",
    "opts ['window_length'] =  2**14\n",
    "opts ['featdim'] = 1 # 1 since it is just 1d time samples\n",
    "opts ['filterlength'] =  31\n",
    "opts ['strides'] = 2\n",
    "opts ['padding'] = 'SAME'\n",
    "opts ['g_enc_numkernels'] = [16, 32, 32, 64, 64, 128, 128, 256, 256, 512, 1024]\n",
    "opts ['d_fmaps'] = opts ['g_enc_numkernels'] # We use the same structure for discriminator\n",
    "opts['leakyrelualpha'] = 0.3\n",
    "opts ['batch_size'] = 100\n",
    "opts ['applyprelu'] = True\n",
    "opts ['preemph'] = 0.95\n",
    "opts ['D_real_target'] = 1. # Use 0.9 0r 0.95 if you want to apply label smoothing\n",
    "\n",
    "opts ['d_activation'] = 'leakyrelu'\n",
    "g_enc_numkernels = opts ['g_enc_numkernels']\n",
    "opts ['g_dec_numkernels'] = g_enc_numkernels[:-1][::-1] + [1]\n",
    "opts ['gt_stride'] = 2\n",
    "opts ['g_l1loss'] = 200.\n",
    "opts ['d_lr'] = 0.0002\n",
    "opts ['g_lr'] = 0.0002\n",
    "opts ['random_seed'] = 111\n",
    "    \n",
    "n_epochs = 81\n",
    "fs = 16000\n",
    "\n",
    "# set flags for training or testing\n",
    "TRAIN_SEGAN =  True\n",
    "SAVE_MODEL =  True\n",
    "LOAD_SAVED_MODEL = False\n",
    "TEST_SEGAN =  True\n",
    "\n",
    "modeldir = get_modeldirname(opts)\n",
    "print (\"The model directory is \" + modeldir)\n",
    "print (\"_____________________________________\")\n",
    "\n",
    "if not os.path.exists(modeldir):\n",
    "    os.makedirs(modeldir)\n",
    "\n",
    "# Obtain the generator and the discriminator\n",
    "D = discriminator(opts)\n",
    "G = generator(opts)\n",
    "\n",
    "# Define optimizers\n",
    "g_opt = keras.optimizers.Adam(lr=opts['g_lr'])\n",
    "d_opt = keras.optimizers.Adam(lr=opts['d_lr'])\n",
    "\n",
    "# The G model has the wav and the noise inputs\n",
    "wav_shape = (opts['window_length'], opts['featdim'])\n",
    "z_dim1 = int(opts['window_length']/ (opts ['strides'] ** len(opts ['g_enc_numkernels'])))\n",
    "z_dim2 = opts ['g_enc_numkernels'][-1]\n",
    "wav_in_clean =  Input(shape=wav_shape, name=\"main_input_clean\")\n",
    "wav_in_noisy = Input(shape=wav_shape, name=\"main_input_noisy\")\n",
    "if not opts ['z_off']:\n",
    "    z = Input (shape=(z_dim1, z_dim2), name=\"noise_input\")\n",
    "    G_wav = G([wav_in_noisy, z])\n",
    "    G = Model([wav_in_noisy, z], G_wav)\n",
    "else :\n",
    "    G_wav = G(wav_in_noisy)\n",
    "    G = Model(wav_in_noisy, G_wav)\n",
    "\n",
    "d_out = D([wav_in_clean, wav_in_noisy])\n",
    "D = Model([wav_in_clean, wav_in_noisy], d_out)\n",
    "G.summary()\n",
    "D.summary()\n",
    "\n",
    "# compile individual models\n",
    "D.compile(loss='mean_squared_error', optimizer=d_opt)\n",
    "G.compile(loss='mean_absolute_error', optimizer=g_opt)\n",
    "\n",
    "# for the combined model, we set the discriminator to be not trainable\n",
    "D.trainable = False\n",
    "D_out = D([G_wav, wav_in_noisy])\n",
    "if not opts ['z_off']:\n",
    "    G_D = Model(inputs=[wav_in_clean, wav_in_noisy, z], outputs=[D_out, G_wav])\n",
    "else :\n",
    "    G_D = Model(inputs=[wav_in_clean, wav_in_noisy], outputs=[D_out, G_wav])\n",
    "G_D.summary()\n",
    "\n",
    "G_D.compile(optimizer=g_opt,\n",
    "            loss={'model_2': 'mean_absolute_error', 'model_4': 'mean_squared_error'},\n",
    "            loss_weights = {'model_2' : opts['g_l1loss'], 'model_4': 1} )\n",
    "print (G_D.metrics_names)"
   ]
  },
  {
   "cell_type": "code",
   "execution_count": null,
   "metadata": {},
   "outputs": [],
   "source": []
  }
 ]
}